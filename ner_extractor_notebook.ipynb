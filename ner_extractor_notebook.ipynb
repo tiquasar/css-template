{
 "cells": [
  {
   "cell_type": "markdown",
   "id": "c302f766",
   "metadata": {},
   "source": [
    "# Named Entity Recognition (NER) Script"
   ]
  },
  {
   "cell_type": "code",
   "execution_count": null,
   "id": "1413a306",
   "metadata": {},
   "outputs": [],
   "source": [
    "\n",
    "import os\n",
    "import sys\n",
    "import pandas as pd\n",
    "import pdfplumber\n",
    "import spacy\n",
    "from pathlib import Path\n"
   ]
  },
  {
   "cell_type": "markdown",
   "id": "5cb0e8fe",
   "metadata": {},
   "source": [
    "### Function to extract text from CSV"
   ]
  },
  {
   "cell_type": "code",
   "execution_count": null,
   "id": "f4311b9d",
   "metadata": {},
   "outputs": [],
   "source": [
    "\n",
    "def extract_text_from_csv(file_path, text_columns=None):\n",
    "    \"\"\"\n",
    "    Extract text from specified columns in a CSV file.\n",
    "    If text_columns is None, extract from all object (string) columns.\n",
    "    \"\"\"\n",
    "    try:\n",
    "        df = pd.read_csv(file_path)\n",
    "        if text_columns:\n",
    "            text_data = df[text_columns].astype(str).agg(' '.join, axis=1).tolist()\n",
    "        else:\n",
    "            # Extract from all object (string) columns\n",
    "            string_cols = df.select_dtypes(include=['object']).columns\n",
    "            text_data = df[string_cols].astype(str).agg(' '.join, axis=1).tolist()\n",
    "        combined_text = ' '.join(text_data)\n",
    "        return combined_text\n",
    "    except Exception as e:\n",
    "        print(f\"Error reading CSV file: {e}\")\n",
    "        sys.exit(1)\n"
   ]
  },
  {
   "cell_type": "markdown",
   "id": "b5875e52",
   "metadata": {},
   "source": [
    "### Function to extract text from Excel"
   ]
  },
  {
   "cell_type": "code",
   "execution_count": null,
   "id": "27bd878a",
   "metadata": {},
   "outputs": [],
   "source": [
    "\n",
    "def extract_text_from_excel(file_path, text_columns=None, sheet_name=0):\n",
    "    \"\"\"\n",
    "    Extract text from specified columns in an Excel file.\n",
    "    If text_columns is None, extract from all object (string) columns.\n",
    "    \"\"\"\n",
    "    try:\n",
    "        df = pd.read_excel(file_path, sheet_name=sheet_name)\n",
    "        if text_columns:\n",
    "            text_data = df[text_columns].astype(str).agg(' '.join, axis=1).tolist()\n",
    "        else:\n",
    "            # Extract from all object (string) columns\n",
    "            string_cols = df.select_dtypes(include=['object']).columns\n",
    "            text_data = df[string_cols].astype(str).agg(' '.join, axis=1).tolist()\n",
    "        combined_text = ' '.join(text_data)\n",
    "        return combined_text\n",
    "    except Exception as e:\n",
    "        print(f\"Error reading Excel file: {e}\")\n",
    "        sys.exit(1)\n"
   ]
  },
  {
   "cell_type": "markdown",
   "id": "152d6cb3",
   "metadata": {},
   "source": [
    "### Function to extract text from PDF"
   ]
  },
  {
   "cell_type": "code",
   "execution_count": null,
   "id": "624a9a10",
   "metadata": {},
   "outputs": [],
   "source": [
    "\n",
    "def extract_text_from_pdf(file_path):\n",
    "    \"\"\"\n",
    "    Extract text from a PDF file using pdfplumber.\n",
    "    \"\"\"\n",
    "    try:\n",
    "        with pdfplumber.open(file_path) as pdf:\n",
    "            text_data = ''\n",
    "            for page in pdf.pages:\n",
    "                page_text = page.extract_text()\n",
    "                if page_text:\n",
    "                    text_data += page_text + '\\n'\n",
    "        return text_data\n",
    "    except Exception as e:\n",
    "        print(f\"Error reading PDF file: {e}\")\n",
    "        sys.exit(1)\n"
   ]
  },
  {
   "cell_type": "markdown",
   "id": "d3da72eb",
   "metadata": {},
   "source": [
    "### Perform Named Entity Recognition (NER) using spaCy"
   ]
  },
  {
   "cell_type": "code",
   "execution_count": null,
   "id": "35cad2dd",
   "metadata": {},
   "outputs": [],
   "source": [
    "\n",
    "def perform_ner(text, nlp):\n",
    "    \"\"\"\n",
    "    Perform Named Entity Recognition on the provided text using spaCy.\n",
    "    Returns a list of entities with their labels and character offsets.\n",
    "    \"\"\"\n",
    "    doc = nlp(text)\n",
    "    entities = []\n",
    "    for ent in doc.ents:\n",
    "        entities.append({\n",
    "            'Entity': ent.text,\n",
    "            'Label': ent.label_,\n",
    "            'Start_char': ent.start_char,\n",
    "            'End_char': ent.end_char\n",
    "        })\n",
    "    return entities\n"
   ]
  },
  {
   "cell_type": "markdown",
   "id": "c72f05f2",
   "metadata": {},
   "source": [
    "### Save entities to a CSV file"
   ]
  },
  {
   "cell_type": "code",
   "execution_count": null,
   "id": "c528d1cc",
   "metadata": {},
   "outputs": [],
   "source": [
    "\n",
    "def save_entities_to_csv(entities, output_file):\n",
    "    \"\"\"\n",
    "    Save the list of entities to a CSV file.\n",
    "    \"\"\"\n",
    "    try:\n",
    "        df = pd.DataFrame(entities)\n",
    "        df.to_csv(output_file, index=False)\n",
    "        print(f\"Entities successfully saved to {output_file}\")\n",
    "    except Exception as e:\n",
    "        print(f\"Error saving entities to CSV: {e}\")\n",
    "        sys.exit(1)\n"
   ]
  },
  {
   "cell_type": "markdown",
   "id": "65d79d2c",
   "metadata": {},
   "source": [
    "### Main function to handle input and output"
   ]
  },
  {
   "cell_type": "code",
   "execution_count": null,
   "id": "b91c7197",
   "metadata": {},
   "outputs": [],
   "source": [
    "\n",
    "def main(input_file, output_file, text_columns=None, sheet_name=0):\n",
    "    input_path = Path(input_file)\n",
    "    output_path = Path(output_file)\n",
    "\n",
    "    if not input_path.exists():\n",
    "        print(f\"Input file {input_path} does not exist.\")\n",
    "        sys.exit(1)\n",
    "\n",
    "    file_extension = input_path.suffix.lower()\n",
    "\n",
    "    # Extract text based on file type\n",
    "    if file_extension == '.csv':\n",
    "        text = extract_text_from_csv(input_path, text_columns=text_columns)\n",
    "    elif file_extension in ['.xls', '.xlsx']:\n",
    "        text = extract_text_from_excel(input_path, text_columns=text_columns, sheet_name=sheet_name)\n",
    "    elif file_extension == '.pdf':\n",
    "        text = extract_text_from_pdf(input_path)\n",
    "    else:\n",
    "        print(\"Unsupported file type. Please provide a CSV, Excel, or PDF file.\")\n",
    "        sys.exit(1)\n",
    "\n",
    "    if not text:\n",
    "        print(\"No text extracted from the input file.\")\n",
    "        sys.exit(1)\n",
    "\n",
    "    print(\"Text extraction complete. Performing Named Entity Recognition...\")\n",
    "\n",
    "    # Load spaCy model\n",
    "    try:\n",
    "        nlp = spacy.load('en_core_web_sm')\n",
    "    except OSError:\n",
    "        print(\"spaCy model 'en_core_web_sm' not found. Downloading now...\")\n",
    "        os.system(\"python -m spacy download en_core_web_sm\")\n",
    "        nlp = spacy.load('en_core_web_sm')\n",
    "\n",
    "    # Perform NER\n",
    "    entities = perform_ner(text, nlp)\n",
    "\n",
    "    if not entities:\n",
    "        print(\"No entities found in the text.\")\n",
    "        sys.exit(0)\n",
    "\n",
    "    # Save entities to CSV\n",
    "    save_entities_to_csv(entities, output_path)\n"
   ]
  }
 ],
 "metadata": {},
 "nbformat": 4,
 "nbformat_minor": 5
}
